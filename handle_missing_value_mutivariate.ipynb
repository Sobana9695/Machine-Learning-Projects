{
 "cells": [
  {
   "cell_type": "code",
   "execution_count": 1,
   "id": "c792b1ad",
   "metadata": {},
   "outputs": [],
   "source": [
    "import pandas as pd\n",
    "import matplotlib.pyplot as plt\n",
    "import seaborn as sns"
   ]
  },
  {
   "cell_type": "code",
   "execution_count": 2,
   "id": "4dcb870b",
   "metadata": {},
   "outputs": [
    {
     "data": {
      "text/html": [
       "<div>\n",
       "<style scoped>\n",
       "    .dataframe tbody tr th:only-of-type {\n",
       "        vertical-align: middle;\n",
       "    }\n",
       "\n",
       "    .dataframe tbody tr th {\n",
       "        vertical-align: top;\n",
       "    }\n",
       "\n",
       "    .dataframe thead th {\n",
       "        text-align: right;\n",
       "    }\n",
       "</style>\n",
       "<table border=\"1\" class=\"dataframe\">\n",
       "  <thead>\n",
       "    <tr style=\"text-align: right;\">\n",
       "      <th></th>\n",
       "      <th>Sample</th>\n",
       "      <th>size1</th>\n",
       "      <th>size2</th>\n",
       "      <th>size3</th>\n",
       "      <th>density1</th>\n",
       "      <th>density2</th>\n",
       "      <th>density3</th>\n",
       "    </tr>\n",
       "  </thead>\n",
       "  <tbody>\n",
       "    <tr>\n",
       "      <th>0</th>\n",
       "      <td>X12558</td>\n",
       "      <td>0.696</td>\n",
       "      <td>2.69</td>\n",
       "      <td>6.38</td>\n",
       "      <td>41.8</td>\n",
       "      <td>17.18</td>\n",
       "      <td>3.90</td>\n",
       "    </tr>\n",
       "    <tr>\n",
       "      <th>1</th>\n",
       "      <td>X14728</td>\n",
       "      <td>0.636</td>\n",
       "      <td>2.30</td>\n",
       "      <td>5.14</td>\n",
       "      <td>38.1</td>\n",
       "      <td>12.73</td>\n",
       "      <td>3.89</td>\n",
       "    </tr>\n",
       "  </tbody>\n",
       "</table>\n",
       "</div>"
      ],
      "text/plain": [
       "   Sample  size1  size2  size3  density1  density2  density3\n",
       "0  X12558  0.696   2.69   6.38      41.8     17.18      3.90\n",
       "1  X14728  0.636   2.30   5.14      38.1     12.73      3.89"
      ]
     },
     "execution_count": 2,
     "metadata": {},
     "output_type": "execute_result"
    }
   ],
   "source": [
    "data=pd.read_csv(r\"C:\\Users\\SSS\\Downloads\\raw-material-properties.csv\")\n",
    "data.head(2)"
   ]
  },
  {
   "cell_type": "code",
   "execution_count": 9,
   "id": "71eb0d99",
   "metadata": {},
   "outputs": [],
   "source": [
    "fv=data[data.columns[1:]]\n",
    "cl=data[data.columns[-1]]"
   ]
  },
  {
   "cell_type": "code",
   "execution_count": 12,
   "id": "537e46f2",
   "metadata": {},
   "outputs": [],
   "source": [
    "fv=data.drop(\"Sample\",axis=1)\n",
    "cl=data[\"Sample\"]"
   ]
  },
  {
   "cell_type": "code",
   "execution_count": 13,
   "id": "30da4e98",
   "metadata": {},
   "outputs": [
    {
     "data": {
      "text/html": [
       "<div>\n",
       "<style scoped>\n",
       "    .dataframe tbody tr th:only-of-type {\n",
       "        vertical-align: middle;\n",
       "    }\n",
       "\n",
       "    .dataframe tbody tr th {\n",
       "        vertical-align: top;\n",
       "    }\n",
       "\n",
       "    .dataframe thead th {\n",
       "        text-align: right;\n",
       "    }\n",
       "</style>\n",
       "<table border=\"1\" class=\"dataframe\">\n",
       "  <thead>\n",
       "    <tr style=\"text-align: right;\">\n",
       "      <th></th>\n",
       "      <th>size1</th>\n",
       "      <th>size2</th>\n",
       "      <th>size3</th>\n",
       "      <th>density1</th>\n",
       "      <th>density2</th>\n",
       "      <th>density3</th>\n",
       "    </tr>\n",
       "  </thead>\n",
       "  <tbody>\n",
       "    <tr>\n",
       "      <th>0</th>\n",
       "      <td>0.696</td>\n",
       "      <td>2.69</td>\n",
       "      <td>6.38</td>\n",
       "      <td>41.8</td>\n",
       "      <td>17.18</td>\n",
       "      <td>3.90</td>\n",
       "    </tr>\n",
       "    <tr>\n",
       "      <th>1</th>\n",
       "      <td>0.636</td>\n",
       "      <td>2.30</td>\n",
       "      <td>5.14</td>\n",
       "      <td>38.1</td>\n",
       "      <td>12.73</td>\n",
       "      <td>3.89</td>\n",
       "    </tr>\n",
       "  </tbody>\n",
       "</table>\n",
       "</div>"
      ],
      "text/plain": [
       "   size1  size2  size3  density1  density2  density3\n",
       "0  0.696   2.69   6.38      41.8     17.18      3.90\n",
       "1  0.636   2.30   5.14      38.1     12.73      3.89"
      ]
     },
     "execution_count": 13,
     "metadata": {},
     "output_type": "execute_result"
    }
   ],
   "source": [
    "fv.head(2)"
   ]
  },
  {
   "cell_type": "code",
   "execution_count": 17,
   "id": "23957c0a",
   "metadata": {},
   "outputs": [
    {
     "data": {
      "text/plain": [
       "size1        2.777778\n",
       "size2        2.777778\n",
       "size3        2.777778\n",
       "density1    27.777778\n",
       "density2    27.777778\n",
       "density3    27.777778\n",
       "dtype: float64"
      ]
     },
     "execution_count": 17,
     "metadata": {},
     "output_type": "execute_result"
    }
   ],
   "source": [
    "fv.isnull().mean()*100"
   ]
  },
  {
   "cell_type": "code",
   "execution_count": 14,
   "id": "62c74cf8",
   "metadata": {},
   "outputs": [
    {
     "data": {
      "text/plain": [
       "0    X12558\n",
       "1    X14728\n",
       "Name: Sample, dtype: object"
      ]
     },
     "execution_count": 14,
     "metadata": {},
     "output_type": "execute_result"
    }
   ],
   "source": [
    "cl.head(2)"
   ]
  },
  {
   "cell_type": "code",
   "execution_count": 5,
   "id": "ac372617",
   "metadata": {},
   "outputs": [],
   "source": [
    "from sklearn.impute import KNNImputer"
   ]
  },
  {
   "cell_type": "code",
   "execution_count": 6,
   "id": "7e819987",
   "metadata": {},
   "outputs": [],
   "source": [
    "knn=KNNImputer(n_neighbors=5)"
   ]
  },
  {
   "cell_type": "code",
   "execution_count": 15,
   "id": "a13e5924",
   "metadata": {},
   "outputs": [],
   "source": [
    "td=knn.fit_transform(fv)"
   ]
  },
  {
   "cell_type": "code",
   "execution_count": 16,
   "id": "b7d51874",
   "metadata": {},
   "outputs": [
    {
     "data": {
      "text/plain": [
       "0    0.0\n",
       "1    0.0\n",
       "2    0.0\n",
       "3    0.0\n",
       "4    0.0\n",
       "5    0.0\n",
       "dtype: float64"
      ]
     },
     "execution_count": 16,
     "metadata": {},
     "output_type": "execute_result"
    }
   ],
   "source": [
    "pd.DataFrame(td).isnull().mean()*100"
   ]
  },
  {
   "cell_type": "code",
   "execution_count": null,
   "id": "6b664daf",
   "metadata": {},
   "outputs": [],
   "source": []
  }
 ],
 "metadata": {
  "kernelspec": {
   "display_name": "Python 3 (ipykernel)",
   "language": "python",
   "name": "python3"
  },
  "language_info": {
   "codemirror_mode": {
    "name": "ipython",
    "version": 3
   },
   "file_extension": ".py",
   "mimetype": "text/x-python",
   "name": "python",
   "nbconvert_exporter": "python",
   "pygments_lexer": "ipython3",
   "version": "3.9.13"
  }
 },
 "nbformat": 4,
 "nbformat_minor": 5
}
